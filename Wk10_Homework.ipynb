{
 "cells": [
  {
   "cell_type": "markdown",
   "id": "f451f5c5",
   "metadata": {},
   "source": [
    "#### Week 10 Homework\n",
    "##### Angela Spencer - December 1, 2021\n",
    "Please be sure your functions work for vectors with a size of three and matrices that are 3x3 and use appropriate error handling. Bonus points if you can further generalize them for larger vectors and matrices. "
   ]
  },
  {
   "cell_type": "code",
   "execution_count": 4,
   "id": "5662df40",
   "metadata": {},
   "outputs": [],
   "source": [
    "#setup and dependencies\n",
    "import numpy as np\n",
    "import pandas as pd\n",
    "import math\n",
    "\n",
    "#visualizations\n",
    "import matplotlib.pyplot as plt\n",
    "import matplotlib.lines as mlines\n",
    "import seaborn as sns\n",
    "\n",
    "#PCA\n",
    "from sklearn.datasets import load_breast_cancer\n",
    "from sklearn.preprocessing import StandardScaler\n",
    "from sklearn.decomposition import PCA"
   ]
  },
  {
   "cell_type": "markdown",
   "id": "7998c3bf",
   "metadata": {},
   "source": [
    "#### 1.\tExplain the dot product and cross product in your own words in markdown. Use LaTeX to properly show the equations."
   ]
  },
  {
   "cell_type": "markdown",
   "id": "64c2c512",
   "metadata": {},
   "source": [
    "The dot product of two vectors is the product of the length of two angles and the cosine of the angle between the vectors:\n",
    "\n",
    "$\\vec{a}\\cdot\\vec{b}=\\left|\\vec{a}\\right|\\left|\\vec{b}\\right|cos\\theta$ \n",
    "\n",
    "The dot product measures the amount that the vectors are going in the same direction. A larger dot product means the angle between the vectors is smaller.\n",
    "\n",
    "The cross product is the product of the lengths of two vectors and the sine of the angle between them:\n",
    "\n",
    "$\\left|\\vec{a}x\\vec{b}\\right|=\\left| \\vec{a} \\right| \\left| \\vec{b} \\right|  sin\\theta$\n",
    "\n",
    "\n",
    "The cross product measures the amount that the vectors are going in opposite directions.  The larger the cross product between angles, the closer the vectors are to orthogonal.\n",
    "\n",
    "References: \n",
    "https://www.overleaf.com/learn/latex/Subscripts_and_superscripts\n",
    "https://www.khanacademy.org/math/linear-algebra/vectors-and-spaces/dot-cross-products/v/dot-and-cross-product-comparison-intuition\n",
    "https://www.physicsread.com/latex-vector/"
   ]
  },
  {
   "cell_type": "markdown",
   "id": "e4298b93",
   "metadata": {},
   "source": [
    "#### 2. Write a function angle_between(v1, v2) where v1 and v2 are two vectors that are passed in, and the angle between them is calculated. "
   ]
  },
  {
   "cell_type": "code",
   "execution_count": 5,
   "id": "36c2e5c6",
   "metadata": {},
   "outputs": [],
   "source": [
    "#function takes in 2 - 3D vectors and calculates angle between them\n",
    "def angle_between(v1,v2):\n",
    "    \n",
    "    #flatten matrix array \n",
    "    #https://numpy.org/doc/stable/reference/generated/numpy.ravel.html\n",
    "    v1 = np.ravel(v1)\n",
    "    v2 = np.ravel(v2)\n",
    "    \n",
    "    try:\n",
    "\n",
    "        #find the magnitude of v1 and v2\n",
    "        mag_v1 = math.sqrt(sum((num**2) for num in v1))\n",
    "        mag_v2 = math.sqrt(sum((num**2) for num in v2))\n",
    "\n",
    "        #take arccos of cos(theta) = dot product / mag v1 * mag v2\n",
    "        theta = math.acos(np.dot(v1,v2) / (mag_v1*mag_v2))\n",
    "    \n",
    "    #exception for errors\n",
    "    except Exception as e:\n",
    "        return(e)\n",
    "    \n",
    "    else:\n",
    "        #return theta = the angle between vectors v1 and v2\n",
    "        return(theta)"
   ]
  },
  {
   "cell_type": "code",
   "execution_count": 6,
   "id": "781adc69",
   "metadata": {},
   "outputs": [
    {
     "name": "stdout",
     "output_type": "stream",
     "text": [
      "1.5687963274615628\n",
      "0.7843981637307818\n",
      "1.5707963267948966\n",
      "shapes (3,) and (2,) not aligned: 3 (dim 0) != 2 (dim 0)\n"
     ]
    }
   ],
   "source": [
    "#Test cases\n",
    "m = np.array([[1], [0.001]])\n",
    "n = np.array([[0.001], [1]])\n",
    "print(angle_between(m,n))\n",
    "\n",
    "m = np.array([[1], [0.001]])\n",
    "n = np.array([[1], [1]])\n",
    "print(angle_between(m,n))\n",
    "\n",
    "m = np.array([[1], [1]])\n",
    "n = np.array([[-1], [1]])\n",
    "print(angle_between(m,n))\n",
    "\n",
    "#error exception test\n",
    "m = np.array([[-1], [0.001], [12]])\n",
    "n = np.array([[0.001], [1]])\n",
    "print(angle_between(m,n))"
   ]
  },
  {
   "cell_type": "markdown",
   "id": "23ef140b",
   "metadata": {},
   "source": [
    "#### 3.\tWrite a function called row_dot(A, r1, r2) which takes an input matrix called A, one row number identified by r1, and another row number identified by r2 and returns the dot product of the r1 and r2 rows (indexing starts at 0)."
   ]
  },
  {
   "cell_type": "code",
   "execution_count": 7,
   "id": "e136bd5d",
   "metadata": {},
   "outputs": [],
   "source": [
    "#function takes in matrix(A), row number(r1), and row number(r2)\n",
    "#and returns dot product of r1 and r2\n",
    "def row_dot(A,r1,r2):\n",
    "    try:\n",
    "        #convert row entries into index values\n",
    "        r1 = A[r1-1]\n",
    "        r2 = A[r2-1]\n",
    "        \n",
    "        #calculate dot product \n",
    "        #dot_prod = sum((math.prod(num)) for num in zip(r1,r2))\n",
    "        dot_prod = np.dot(r1,r2)\n",
    "    \n",
    "    #error exception\n",
    "    except Exception as e: \n",
    "        return(e)\n",
    "    \n",
    "    else:\n",
    "        return dot_prod"
   ]
  },
  {
   "cell_type": "code",
   "execution_count": 8,
   "id": "6c98e1ce",
   "metadata": {},
   "outputs": [
    {
     "name": "stdout",
     "output_type": "stream",
     "text": [
      "-0.001\n",
      "-12.0\n"
     ]
    }
   ],
   "source": [
    "#Test cases\n",
    "A = np.array([[-1], [0.001]])\n",
    "print(row_dot(A,1,2))\n",
    "\n",
    "A = np.array([[-1], [0.001], [12]])\n",
    "print(row_dot(A,1,3))"
   ]
  },
  {
   "cell_type": "markdown",
   "id": "d1c96ee3",
   "metadata": {},
   "source": [
    "#### 4.\tWrite a function matrix_division(m1, m2) that takes in two matrices, m1 and m2, and returns the result. What is the trick with matrix division?"
   ]
  },
  {
   "cell_type": "code",
   "execution_count": 9,
   "id": "034b81a9",
   "metadata": {},
   "outputs": [],
   "source": [
    "#function takes in 2 matrices (M1 and M2) and returns the product of division\n",
    "def matrix_division(M1,M2):\n",
    "    \n",
    "    try:\n",
    "        invM2 = np.linalg.inv(M2)\n",
    "        M1_div_M2 = np.matmul(M1,invM2)\n",
    "        \n",
    "    except Exception as e:\n",
    "        return(e)\n",
    "    \n",
    "    else:\n",
    "        return(M1_div_M2)\n",
    "    "
   ]
  },
  {
   "cell_type": "code",
   "execution_count": 10,
   "id": "fe8c03c7",
   "metadata": {},
   "outputs": [
    {
     "data": {
      "text/plain": [
       "array([[-0.23617331,  2.61391552,  0.06620737],\n",
       "       [ 0.13199645, -0.10239341,  0.106903  ],\n",
       "       [-0.9092682 , -7.95250849,  1.39068064]])"
      ]
     },
     "execution_count": 10,
     "metadata": {},
     "output_type": "execute_result"
    }
   ],
   "source": [
    "M1 = np.array([[123,255,37],[48,-56,69],[73,84, -989]])\n",
    "M2 = np.array([[94,-448,557],[46,55,64],[377,82,19]])\n",
    "\n",
    "matrix_division(M1,M2)"
   ]
  },
  {
   "cell_type": "markdown",
   "id": "786dbfde",
   "metadata": {},
   "source": [
    "#### 5.\tWrite a function is_orthogonal(v1,v2, tol), where v1 and v2 are column vectors of the same size and tol is a scalar value strictly larger than 0. The output should be 1 if the angle between v1 and v2 is within tol of π/2; that is, |π/2−θ|<tol, and 0 otherwise. "
   ]
  },
  {
   "cell_type": "code",
   "execution_count": 11,
   "id": "f4c93b5a",
   "metadata": {},
   "outputs": [],
   "source": [
    "#function that takes in 2 column vectors and a tolerance > 0\n",
    "#outputs 1 if |π/2−θ|<tol and 0 if outside tolerance\n",
    "def is_orthogonal(v1,v2,tol):\n",
    "    \n",
    "    #flatten matrices\n",
    "    v1 = np.ravel(v1)\n",
    "    v2 = np.ravel(v2)\n",
    "    \n",
    "    try:\n",
    "        #calculate angle between vectors\n",
    "        theta = angle_between(v1,v2)\n",
    "\n",
    "        #if angle is in tolerance, return 1\n",
    "        if abs(math.pi/2 - theta) < tol:\n",
    "            return(1)\n",
    "    except Exception as e:\n",
    "        return(e)\n",
    "    \n",
    "    #if no exception, return 0\n",
    "    else:\n",
    "        return(0)"
   ]
  },
  {
   "cell_type": "code",
   "execution_count": 12,
   "id": "302b2d55",
   "metadata": {},
   "outputs": [
    {
     "name": "stdout",
     "output_type": "stream",
     "text": [
      "1\n",
      "0\n",
      "0\n",
      "1\n"
     ]
    }
   ],
   "source": [
    "# Test cases for problem 5\n",
    "a = np.array([[1], [0.001]])\n",
    "b = np.array([[0.001], [1]])\n",
    "# output: 1\n",
    "print(is_orthogonal(a,b, 0.01))\n",
    "\n",
    "# output: 0\n",
    "print(is_orthogonal(a,b, 0.001))\n",
    "\n",
    "# output: 0\n",
    "a = np.array([[1], [0.001]])\n",
    "b = np.array([[1], [1]])\n",
    "print(is_orthogonal(a,b, 0.01))\n",
    "\n",
    "# output: 1\n",
    "a = np.array([[1], [1]])\n",
    "b = np.array([[-1], [1]])\n",
    "print(is_orthogonal(a,b, 1e-10))"
   ]
  },
  {
   "cell_type": "markdown",
   "id": "3bbacfd8",
   "metadata": {},
   "source": [
    "#### 6.\tCreate a class called vector_calculator. __init__ should take self, vector1, and vector2. It should have two methods inside of it that are from problems 1 and 4 above (angle_between and is_orthogonal). Make sure tol is defaulted but can be overwritten. Make sure you can call angle_between and is_orthogonal through the class and return the correct results as in problems 1 and 4. "
   ]
  },
  {
   "cell_type": "code",
   "execution_count": 13,
   "id": "26885843",
   "metadata": {},
   "outputs": [],
   "source": [
    "#http://introtopython.org/classes.html\n",
    "#define class, calculates angle between 2 vectors \n",
    "#and if vectors are orthogonal within a certain tolerance\n",
    "class vector_calculator():\n",
    "    \n",
    "    #define instance of object \n",
    "    def __init__(self, vector1, vector2):\n",
    "        self.v1 = np.ravel(vector1)\n",
    "        self.v2 = np.ravel(vector2)\n",
    "    \n",
    "    #define method that calculates angle between vectors\n",
    "    def angle_between(self):\n",
    "        \n",
    "        #find the magnitude of v1 and v2\n",
    "        mag_v1 = math.sqrt(sum((num**2) for num in self.v1))\n",
    "        mag_v2 = math.sqrt(sum((num**2) for num in self.v2))\n",
    "\n",
    "        #take arccos of cos(theta) = dot product / mag v1 * mag v2\n",
    "        theta = math.acos(np.dot(self.v1,self.v2) / (mag_v1*mag_v2))\n",
    "        return(theta)\n",
    "    \n",
    "    #define method that determines iftwo vectors are orthogonal within tolerance\n",
    "    #specify a default tolerance\n",
    "    def is_orthogonal(self, tol=0.01):\n",
    "\n",
    "        #calculate angle between vectors\n",
    "        theta = angle_between(self.v1,self.v2)\n",
    "\n",
    "        #if angle is in tolerance, return 1\n",
    "        if abs(math.pi/2 - theta) < tol:\n",
    "            return(1)\n",
    "\n",
    "        #else return 0\n",
    "        else:\n",
    "            return(0)"
   ]
  },
  {
   "cell_type": "code",
   "execution_count": 14,
   "id": "0a9cf762",
   "metadata": {},
   "outputs": [
    {
     "name": "stdout",
     "output_type": "stream",
     "text": [
      "test1\n",
      "vector_calculator vs. angle_between\n",
      "1.5687963274615628\n",
      "1.5687963274615628\n",
      " \n",
      "vector_calculator vs. is_orthogonal\n",
      "1\n",
      "1\n",
      "0\n",
      "0\n",
      " \n",
      "test2\n",
      "vector_calculator vs. angle_between\n",
      "0.7843981637307818\n",
      "0.7843981637307818\n",
      " \n",
      "vector_calculator vs. is_orthogonal\n",
      "0\n",
      "0\n",
      "1\n",
      "1\n",
      " \n",
      "test3\n",
      "vector_calculator vs. angle_between\n",
      "1.5707963267948966\n",
      "1.5707963267948966\n",
      " \n",
      "vector_calculator vs. is_orthogonal\n",
      "1\n",
      "1\n",
      "1\n",
      "1\n",
      "0\n",
      "0\n"
     ]
    }
   ],
   "source": [
    "#Test cases\n",
    "a = np.array([[1], [0.001]])\n",
    "b = np.array([[0.001], [1]])\n",
    "\n",
    "test1 = vector_calculator(a,b)\n",
    "print('test1')\n",
    "print('vector_calculator vs. angle_between')\n",
    "print(test1.angle_between())\n",
    "print(angle_between(a,b))\n",
    "print(' ')\n",
    "print('vector_calculator vs. is_orthogonal')\n",
    "print(test1.is_orthogonal())\n",
    "print(is_orthogonal(a,b, 0.01))\n",
    "\n",
    "print(test1.is_orthogonal(tol=0.001))\n",
    "print(is_orthogonal(a,b, 0.001))\n",
    "\n",
    "print(' ')\n",
    "\n",
    "c = np.array([[1], [0.001]])\n",
    "d = np.array([[1], [1]])\n",
    "test2 = vector_calculator(c,d)\n",
    "print('test2')\n",
    "print('vector_calculator vs. angle_between')\n",
    "print(test2.angle_between())\n",
    "print(angle_between(c,d))\n",
    "print(' ')\n",
    "\n",
    "print('vector_calculator vs. is_orthogonal')\n",
    "print(test2.is_orthogonal())\n",
    "print(is_orthogonal(c,d, 0.01))\n",
    "\n",
    "print(test2.is_orthogonal(tol=1))\n",
    "print(is_orthogonal(c,d,1))\n",
    "\n",
    "print(' ')\n",
    "\n",
    "e = np.array([[1], [1]])\n",
    "f = np.array([[-1], [1]])\n",
    "test3 = vector_calculator(e,f)\n",
    "print('test3')\n",
    "print('vector_calculator vs. angle_between')\n",
    "print(test3.angle_between())\n",
    "print(angle_between(e,f))\n",
    "print(' ')\n",
    "\n",
    "print('vector_calculator vs. is_orthogonal')\n",
    "print(test3.is_orthogonal())\n",
    "print(is_orthogonal(e,f, 0.01))\n",
    "\n",
    "print(test3.is_orthogonal(tol=1e-10))\n",
    "print(is_orthogonal(e,f,1e-10))\n",
    "\n",
    "print(test3.is_orthogonal(tol=0))\n",
    "print(is_orthogonal(e,f,0))\n"
   ]
  },
  {
   "cell_type": "markdown",
   "id": "095f6d4a",
   "metadata": {},
   "source": [
    "#### 7.\tShow a graphical representation of the breast cancer data outlined in this reading https://www.datacamp.com/community/tutorials/principal-component-analysis-in-python Be sure to describe what PCA is and incorporate the principal components in your plot. This is just exploratory, so there are many correct answers!\n"
   ]
  },
  {
   "cell_type": "code",
   "execution_count": 15,
   "id": "08a41dc1",
   "metadata": {},
   "outputs": [
    {
     "data": {
      "text/plain": [
       "(569, 30)"
      ]
     },
     "execution_count": 15,
     "metadata": {},
     "output_type": "execute_result"
    }
   ],
   "source": [
    "#load breast cancer data from sklearn and check the shape\n",
    "breast = load_breast_cancer()\n",
    "\n",
    "#fetch data (.data)\n",
    "breast_data = breast.data\n",
    "breast_data.shape"
   ]
  },
  {
   "cell_type": "code",
   "execution_count": 16,
   "id": "42ea2631",
   "metadata": {},
   "outputs": [
    {
     "data": {
      "text/plain": [
       "(569,)"
      ]
     },
     "execution_count": 16,
     "metadata": {},
     "output_type": "execute_result"
    }
   ],
   "source": [
    "#fetch labels (.target) from data and check shape\n",
    "breast_labels = breast.target\n",
    "breast_labels.shape"
   ]
  },
  {
   "cell_type": "code",
   "execution_count": 17,
   "id": "cc5f17c9",
   "metadata": {},
   "outputs": [
    {
     "data": {
      "text/plain": [
       "(569, 31)"
      ]
     },
     "execution_count": 17,
     "metadata": {},
     "output_type": "execute_result"
    }
   ],
   "source": [
    "#reshape labels\n",
    "labels = np.reshape(breast_labels,(569,1))\n",
    "\n",
    "#concatenate data and labels \n",
    "final_breast_data = np.concatenate([breast_data, labels], axis=1)\n",
    "\n",
    "#check new shape\n",
    "final_breast_data.shape"
   ]
  },
  {
   "cell_type": "code",
   "execution_count": 18,
   "id": "ea253602",
   "metadata": {},
   "outputs": [
    {
     "data": {
      "text/plain": [
       "array(['mean radius', 'mean texture', 'mean perimeter', 'mean area',\n",
       "       'mean smoothness', 'mean compactness', 'mean concavity',\n",
       "       'mean concave points', 'mean symmetry', 'mean fractal dimension',\n",
       "       'radius error', 'texture error', 'perimeter error', 'area error',\n",
       "       'smoothness error', 'compactness error', 'concavity error',\n",
       "       'concave points error', 'symmetry error',\n",
       "       'fractal dimension error', 'worst radius', 'worst texture',\n",
       "       'worst perimeter', 'worst area', 'worst smoothness',\n",
       "       'worst compactness', 'worst concavity', 'worst concave points',\n",
       "       'worst symmetry', 'worst fractal dimension'], dtype='<U23')"
      ]
     },
     "execution_count": 18,
     "metadata": {},
     "output_type": "execute_result"
    }
   ],
   "source": [
    "#convert dataset to dataframe\n",
    "breast_dataset = pd.DataFrame(final_breast_data)\n",
    "\n",
    "#check features in dataset\n",
    "features = breast.feature_names\n",
    "features"
   ]
  },
  {
   "cell_type": "code",
   "execution_count": 19,
   "id": "007850e3",
   "metadata": {},
   "outputs": [
    {
     "data": {
      "text/html": [
       "<div>\n",
       "<style scoped>\n",
       "    .dataframe tbody tr th:only-of-type {\n",
       "        vertical-align: middle;\n",
       "    }\n",
       "\n",
       "    .dataframe tbody tr th {\n",
       "        vertical-align: top;\n",
       "    }\n",
       "\n",
       "    .dataframe thead th {\n",
       "        text-align: right;\n",
       "    }\n",
       "</style>\n",
       "<table border=\"1\" class=\"dataframe\">\n",
       "  <thead>\n",
       "    <tr style=\"text-align: right;\">\n",
       "      <th></th>\n",
       "      <th>mean radius</th>\n",
       "      <th>mean texture</th>\n",
       "      <th>mean perimeter</th>\n",
       "      <th>mean area</th>\n",
       "      <th>mean smoothness</th>\n",
       "      <th>mean compactness</th>\n",
       "      <th>mean concavity</th>\n",
       "      <th>mean concave points</th>\n",
       "      <th>mean symmetry</th>\n",
       "      <th>mean fractal dimension</th>\n",
       "      <th>...</th>\n",
       "      <th>worst texture</th>\n",
       "      <th>worst perimeter</th>\n",
       "      <th>worst area</th>\n",
       "      <th>worst smoothness</th>\n",
       "      <th>worst compactness</th>\n",
       "      <th>worst concavity</th>\n",
       "      <th>worst concave points</th>\n",
       "      <th>worst symmetry</th>\n",
       "      <th>worst fractal dimension</th>\n",
       "      <th>label</th>\n",
       "    </tr>\n",
       "  </thead>\n",
       "  <tbody>\n",
       "    <tr>\n",
       "      <th>0</th>\n",
       "      <td>17.99</td>\n",
       "      <td>10.38</td>\n",
       "      <td>122.8</td>\n",
       "      <td>1001.0</td>\n",
       "      <td>0.11840</td>\n",
       "      <td>0.27760</td>\n",
       "      <td>0.3001</td>\n",
       "      <td>0.14710</td>\n",
       "      <td>0.2419</td>\n",
       "      <td>0.07871</td>\n",
       "      <td>...</td>\n",
       "      <td>17.33</td>\n",
       "      <td>184.6</td>\n",
       "      <td>2019.0</td>\n",
       "      <td>0.1622</td>\n",
       "      <td>0.6656</td>\n",
       "      <td>0.7119</td>\n",
       "      <td>0.2654</td>\n",
       "      <td>0.4601</td>\n",
       "      <td>0.11890</td>\n",
       "      <td>0.0</td>\n",
       "    </tr>\n",
       "    <tr>\n",
       "      <th>1</th>\n",
       "      <td>20.57</td>\n",
       "      <td>17.77</td>\n",
       "      <td>132.9</td>\n",
       "      <td>1326.0</td>\n",
       "      <td>0.08474</td>\n",
       "      <td>0.07864</td>\n",
       "      <td>0.0869</td>\n",
       "      <td>0.07017</td>\n",
       "      <td>0.1812</td>\n",
       "      <td>0.05667</td>\n",
       "      <td>...</td>\n",
       "      <td>23.41</td>\n",
       "      <td>158.8</td>\n",
       "      <td>1956.0</td>\n",
       "      <td>0.1238</td>\n",
       "      <td>0.1866</td>\n",
       "      <td>0.2416</td>\n",
       "      <td>0.1860</td>\n",
       "      <td>0.2750</td>\n",
       "      <td>0.08902</td>\n",
       "      <td>0.0</td>\n",
       "    </tr>\n",
       "    <tr>\n",
       "      <th>2</th>\n",
       "      <td>19.69</td>\n",
       "      <td>21.25</td>\n",
       "      <td>130.0</td>\n",
       "      <td>1203.0</td>\n",
       "      <td>0.10960</td>\n",
       "      <td>0.15990</td>\n",
       "      <td>0.1974</td>\n",
       "      <td>0.12790</td>\n",
       "      <td>0.2069</td>\n",
       "      <td>0.05999</td>\n",
       "      <td>...</td>\n",
       "      <td>25.53</td>\n",
       "      <td>152.5</td>\n",
       "      <td>1709.0</td>\n",
       "      <td>0.1444</td>\n",
       "      <td>0.4245</td>\n",
       "      <td>0.4504</td>\n",
       "      <td>0.2430</td>\n",
       "      <td>0.3613</td>\n",
       "      <td>0.08758</td>\n",
       "      <td>0.0</td>\n",
       "    </tr>\n",
       "  </tbody>\n",
       "</table>\n",
       "<p>3 rows × 31 columns</p>\n",
       "</div>"
      ],
      "text/plain": [
       "   mean radius  mean texture  mean perimeter  mean area  mean smoothness  \\\n",
       "0        17.99         10.38           122.8     1001.0          0.11840   \n",
       "1        20.57         17.77           132.9     1326.0          0.08474   \n",
       "2        19.69         21.25           130.0     1203.0          0.10960   \n",
       "\n",
       "   mean compactness  mean concavity  mean concave points  mean symmetry  \\\n",
       "0           0.27760          0.3001              0.14710         0.2419   \n",
       "1           0.07864          0.0869              0.07017         0.1812   \n",
       "2           0.15990          0.1974              0.12790         0.2069   \n",
       "\n",
       "   mean fractal dimension  ...  worst texture  worst perimeter  worst area  \\\n",
       "0                 0.07871  ...          17.33            184.6      2019.0   \n",
       "1                 0.05667  ...          23.41            158.8      1956.0   \n",
       "2                 0.05999  ...          25.53            152.5      1709.0   \n",
       "\n",
       "   worst smoothness  worst compactness  worst concavity  worst concave points  \\\n",
       "0            0.1622             0.6656           0.7119                0.2654   \n",
       "1            0.1238             0.1866           0.2416                0.1860   \n",
       "2            0.1444             0.4245           0.4504                0.2430   \n",
       "\n",
       "   worst symmetry  worst fractal dimension  label  \n",
       "0          0.4601                  0.11890    0.0  \n",
       "1          0.2750                  0.08902    0.0  \n",
       "2          0.3613                  0.08758    0.0  \n",
       "\n",
       "[3 rows x 31 columns]"
      ]
     },
     "execution_count": 19,
     "metadata": {},
     "output_type": "execute_result"
    }
   ],
   "source": [
    "#add labels to the features array\n",
    "features_labels = np.append(features, 'label')\n",
    "\n",
    "#embed the column names to the dataframe\n",
    "breast_dataset.columns = features_labels\n",
    "\n",
    "#view dataframe to ensure labels are added\n",
    "breast_dataset.head(3)"
   ]
  },
  {
   "cell_type": "code",
   "execution_count": 20,
   "id": "63cc1318",
   "metadata": {},
   "outputs": [
    {
     "data": {
      "text/html": [
       "<div>\n",
       "<style scoped>\n",
       "    .dataframe tbody tr th:only-of-type {\n",
       "        vertical-align: middle;\n",
       "    }\n",
       "\n",
       "    .dataframe tbody tr th {\n",
       "        vertical-align: top;\n",
       "    }\n",
       "\n",
       "    .dataframe thead th {\n",
       "        text-align: right;\n",
       "    }\n",
       "</style>\n",
       "<table border=\"1\" class=\"dataframe\">\n",
       "  <thead>\n",
       "    <tr style=\"text-align: right;\">\n",
       "      <th></th>\n",
       "      <th>mean radius</th>\n",
       "      <th>mean texture</th>\n",
       "      <th>mean perimeter</th>\n",
       "      <th>mean area</th>\n",
       "      <th>mean smoothness</th>\n",
       "      <th>mean compactness</th>\n",
       "      <th>mean concavity</th>\n",
       "      <th>mean concave points</th>\n",
       "      <th>mean symmetry</th>\n",
       "      <th>mean fractal dimension</th>\n",
       "      <th>...</th>\n",
       "      <th>worst texture</th>\n",
       "      <th>worst perimeter</th>\n",
       "      <th>worst area</th>\n",
       "      <th>worst smoothness</th>\n",
       "      <th>worst compactness</th>\n",
       "      <th>worst concavity</th>\n",
       "      <th>worst concave points</th>\n",
       "      <th>worst symmetry</th>\n",
       "      <th>worst fractal dimension</th>\n",
       "      <th>label</th>\n",
       "    </tr>\n",
       "  </thead>\n",
       "  <tbody>\n",
       "    <tr>\n",
       "      <th>566</th>\n",
       "      <td>16.60</td>\n",
       "      <td>28.08</td>\n",
       "      <td>108.30</td>\n",
       "      <td>858.1</td>\n",
       "      <td>0.08455</td>\n",
       "      <td>0.10230</td>\n",
       "      <td>0.09251</td>\n",
       "      <td>0.05302</td>\n",
       "      <td>0.1590</td>\n",
       "      <td>0.05648</td>\n",
       "      <td>...</td>\n",
       "      <td>34.12</td>\n",
       "      <td>126.70</td>\n",
       "      <td>1124.0</td>\n",
       "      <td>0.11390</td>\n",
       "      <td>0.30940</td>\n",
       "      <td>0.3403</td>\n",
       "      <td>0.1418</td>\n",
       "      <td>0.2218</td>\n",
       "      <td>0.07820</td>\n",
       "      <td>Benign</td>\n",
       "    </tr>\n",
       "    <tr>\n",
       "      <th>567</th>\n",
       "      <td>20.60</td>\n",
       "      <td>29.33</td>\n",
       "      <td>140.10</td>\n",
       "      <td>1265.0</td>\n",
       "      <td>0.11780</td>\n",
       "      <td>0.27700</td>\n",
       "      <td>0.35140</td>\n",
       "      <td>0.15200</td>\n",
       "      <td>0.2397</td>\n",
       "      <td>0.07016</td>\n",
       "      <td>...</td>\n",
       "      <td>39.42</td>\n",
       "      <td>184.60</td>\n",
       "      <td>1821.0</td>\n",
       "      <td>0.16500</td>\n",
       "      <td>0.86810</td>\n",
       "      <td>0.9387</td>\n",
       "      <td>0.2650</td>\n",
       "      <td>0.4087</td>\n",
       "      <td>0.12400</td>\n",
       "      <td>Benign</td>\n",
       "    </tr>\n",
       "    <tr>\n",
       "      <th>568</th>\n",
       "      <td>7.76</td>\n",
       "      <td>24.54</td>\n",
       "      <td>47.92</td>\n",
       "      <td>181.0</td>\n",
       "      <td>0.05263</td>\n",
       "      <td>0.04362</td>\n",
       "      <td>0.00000</td>\n",
       "      <td>0.00000</td>\n",
       "      <td>0.1587</td>\n",
       "      <td>0.05884</td>\n",
       "      <td>...</td>\n",
       "      <td>30.37</td>\n",
       "      <td>59.16</td>\n",
       "      <td>268.6</td>\n",
       "      <td>0.08996</td>\n",
       "      <td>0.06444</td>\n",
       "      <td>0.0000</td>\n",
       "      <td>0.0000</td>\n",
       "      <td>0.2871</td>\n",
       "      <td>0.07039</td>\n",
       "      <td>Malignant</td>\n",
       "    </tr>\n",
       "  </tbody>\n",
       "</table>\n",
       "<p>3 rows × 31 columns</p>\n",
       "</div>"
      ],
      "text/plain": [
       "     mean radius  mean texture  mean perimeter  mean area  mean smoothness  \\\n",
       "566        16.60         28.08          108.30      858.1          0.08455   \n",
       "567        20.60         29.33          140.10     1265.0          0.11780   \n",
       "568         7.76         24.54           47.92      181.0          0.05263   \n",
       "\n",
       "     mean compactness  mean concavity  mean concave points  mean symmetry  \\\n",
       "566           0.10230         0.09251              0.05302         0.1590   \n",
       "567           0.27700         0.35140              0.15200         0.2397   \n",
       "568           0.04362         0.00000              0.00000         0.1587   \n",
       "\n",
       "     mean fractal dimension  ...  worst texture  worst perimeter  worst area  \\\n",
       "566                 0.05648  ...          34.12           126.70      1124.0   \n",
       "567                 0.07016  ...          39.42           184.60      1821.0   \n",
       "568                 0.05884  ...          30.37            59.16       268.6   \n",
       "\n",
       "     worst smoothness  worst compactness  worst concavity  \\\n",
       "566           0.11390            0.30940           0.3403   \n",
       "567           0.16500            0.86810           0.9387   \n",
       "568           0.08996            0.06444           0.0000   \n",
       "\n",
       "     worst concave points  worst symmetry  worst fractal dimension      label  \n",
       "566                0.1418          0.2218                  0.07820     Benign  \n",
       "567                0.2650          0.4087                  0.12400     Benign  \n",
       "568                0.0000          0.2871                  0.07039  Malignant  \n",
       "\n",
       "[3 rows x 31 columns]"
      ]
     },
     "execution_count": 20,
     "metadata": {},
     "output_type": "execute_result"
    }
   ],
   "source": [
    "#change 'label' column from boolean to benign/malignant\n",
    "breast_dataset['label'].replace(0, 'Benign', inplace=True)\n",
    "breast_dataset['label'].replace(1, 'Malignant', inplace=True)\n",
    "\n",
    "#view tail of dataset to see results\n",
    "breast_dataset.tail(3)"
   ]
  },
  {
   "cell_type": "code",
   "execution_count": 21,
   "id": "bb49aef2",
   "metadata": {},
   "outputs": [
    {
     "data": {
      "text/plain": [
       "(569, 30)"
      ]
     },
     "execution_count": 21,
     "metadata": {},
     "output_type": "execute_result"
    }
   ],
   "source": [
    "#use StandardScaler from sklearn to apply normalization (.fit_transform())\n",
    "#normalization - fitting data to normal distribution, mean =0, stdev = 1\n",
    "x=breast_dataset.loc[:,features].values\n",
    "x=StandardScaler().fit_transform(x)\n",
    "\n",
    "x.shape"
   ]
  },
  {
   "cell_type": "code",
   "execution_count": 22,
   "id": "831bf2d5",
   "metadata": {},
   "outputs": [
    {
     "data": {
      "text/plain": [
       "(-6.826538293184326e-17, 1.0)"
      ]
     },
     "execution_count": 22,
     "metadata": {},
     "output_type": "execute_result"
    }
   ],
   "source": [
    "#check that data has been normalized\n",
    "np.mean(x), np.std(x)"
   ]
  },
  {
   "cell_type": "code",
   "execution_count": 23,
   "id": "44853b36",
   "metadata": {},
   "outputs": [
    {
     "data": {
      "text/html": [
       "<div>\n",
       "<style scoped>\n",
       "    .dataframe tbody tr th:only-of-type {\n",
       "        vertical-align: middle;\n",
       "    }\n",
       "\n",
       "    .dataframe tbody tr th {\n",
       "        vertical-align: top;\n",
       "    }\n",
       "\n",
       "    .dataframe thead th {\n",
       "        text-align: right;\n",
       "    }\n",
       "</style>\n",
       "<table border=\"1\" class=\"dataframe\">\n",
       "  <thead>\n",
       "    <tr style=\"text-align: right;\">\n",
       "      <th></th>\n",
       "      <th>feature0</th>\n",
       "      <th>feature1</th>\n",
       "      <th>feature2</th>\n",
       "      <th>feature3</th>\n",
       "      <th>feature4</th>\n",
       "      <th>feature5</th>\n",
       "      <th>feature6</th>\n",
       "      <th>feature7</th>\n",
       "      <th>feature8</th>\n",
       "      <th>feature9</th>\n",
       "      <th>...</th>\n",
       "      <th>feature20</th>\n",
       "      <th>feature21</th>\n",
       "      <th>feature22</th>\n",
       "      <th>feature23</th>\n",
       "      <th>feature24</th>\n",
       "      <th>feature25</th>\n",
       "      <th>feature26</th>\n",
       "      <th>feature27</th>\n",
       "      <th>feature28</th>\n",
       "      <th>feature29</th>\n",
       "    </tr>\n",
       "  </thead>\n",
       "  <tbody>\n",
       "    <tr>\n",
       "      <th>566</th>\n",
       "      <td>0.702284</td>\n",
       "      <td>2.045574</td>\n",
       "      <td>0.672676</td>\n",
       "      <td>0.577953</td>\n",
       "      <td>-0.840484</td>\n",
       "      <td>-0.038680</td>\n",
       "      <td>0.046588</td>\n",
       "      <td>0.105777</td>\n",
       "      <td>-0.809117</td>\n",
       "      <td>-0.895587</td>\n",
       "      <td>...</td>\n",
       "      <td>0.561361</td>\n",
       "      <td>1.374854</td>\n",
       "      <td>0.579001</td>\n",
       "      <td>0.427906</td>\n",
       "      <td>-0.809587</td>\n",
       "      <td>0.350735</td>\n",
       "      <td>0.326767</td>\n",
       "      <td>0.414069</td>\n",
       "      <td>-1.104549</td>\n",
       "      <td>-0.318409</td>\n",
       "    </tr>\n",
       "    <tr>\n",
       "      <th>567</th>\n",
       "      <td>1.838341</td>\n",
       "      <td>2.336457</td>\n",
       "      <td>1.982524</td>\n",
       "      <td>1.735218</td>\n",
       "      <td>1.525767</td>\n",
       "      <td>3.272144</td>\n",
       "      <td>3.296944</td>\n",
       "      <td>2.658866</td>\n",
       "      <td>2.137194</td>\n",
       "      <td>1.043695</td>\n",
       "      <td>...</td>\n",
       "      <td>1.961239</td>\n",
       "      <td>2.237926</td>\n",
       "      <td>2.303601</td>\n",
       "      <td>1.653171</td>\n",
       "      <td>1.430427</td>\n",
       "      <td>3.904848</td>\n",
       "      <td>3.197605</td>\n",
       "      <td>2.289985</td>\n",
       "      <td>1.919083</td>\n",
       "      <td>2.219635</td>\n",
       "    </tr>\n",
       "    <tr>\n",
       "      <th>568</th>\n",
       "      <td>-1.808401</td>\n",
       "      <td>1.221792</td>\n",
       "      <td>-1.814389</td>\n",
       "      <td>-1.347789</td>\n",
       "      <td>-3.112085</td>\n",
       "      <td>-1.150752</td>\n",
       "      <td>-1.114873</td>\n",
       "      <td>-1.261820</td>\n",
       "      <td>-0.820070</td>\n",
       "      <td>-0.561032</td>\n",
       "      <td>...</td>\n",
       "      <td>-1.410893</td>\n",
       "      <td>0.764190</td>\n",
       "      <td>-1.432735</td>\n",
       "      <td>-1.075813</td>\n",
       "      <td>-1.859019</td>\n",
       "      <td>-1.207552</td>\n",
       "      <td>-1.305831</td>\n",
       "      <td>-1.745063</td>\n",
       "      <td>-0.048138</td>\n",
       "      <td>-0.751207</td>\n",
       "    </tr>\n",
       "  </tbody>\n",
       "</table>\n",
       "<p>3 rows × 30 columns</p>\n",
       "</div>"
      ],
      "text/plain": [
       "     feature0  feature1  feature2  feature3  feature4  feature5  feature6  \\\n",
       "566  0.702284  2.045574  0.672676  0.577953 -0.840484 -0.038680  0.046588   \n",
       "567  1.838341  2.336457  1.982524  1.735218  1.525767  3.272144  3.296944   \n",
       "568 -1.808401  1.221792 -1.814389 -1.347789 -3.112085 -1.150752 -1.114873   \n",
       "\n",
       "     feature7  feature8  feature9  ...  feature20  feature21  feature22  \\\n",
       "566  0.105777 -0.809117 -0.895587  ...   0.561361   1.374854   0.579001   \n",
       "567  2.658866  2.137194  1.043695  ...   1.961239   2.237926   2.303601   \n",
       "568 -1.261820 -0.820070 -0.561032  ...  -1.410893   0.764190  -1.432735   \n",
       "\n",
       "     feature23  feature24  feature25  feature26  feature27  feature28  \\\n",
       "566   0.427906  -0.809587   0.350735   0.326767   0.414069  -1.104549   \n",
       "567   1.653171   1.430427   3.904848   3.197605   2.289985   1.919083   \n",
       "568  -1.075813  -1.859019  -1.207552  -1.305831  -1.745063  -0.048138   \n",
       "\n",
       "     feature29  \n",
       "566  -0.318409  \n",
       "567   2.219635  \n",
       "568  -0.751207  \n",
       "\n",
       "[3 rows x 30 columns]"
      ]
     },
     "execution_count": 23,
     "metadata": {},
     "output_type": "execute_result"
    }
   ],
   "source": [
    "#convert normalized features into tabular format\n",
    "feat_cols = ['feature'+str(i) for i in range(x.shape[1])]\n",
    "normalised_breast = pd.DataFrame(x,columns=feat_cols)\n",
    "normalised_breast.tail(3)"
   ]
  },
  {
   "cell_type": "code",
   "execution_count": 24,
   "id": "8952ae2e",
   "metadata": {},
   "outputs": [],
   "source": [
    "#from sklearn.decomposition import PCA\n",
    "#pass the number of PCA components desired \n",
    "#lower dimension that the higher dimension dataset is projected into\n",
    "pca_breast = PCA(n_components=2)\n",
    "\n",
    "#apply fit_transform on the aggregate data\n",
    "principalcomponents_breast = pca_breast.fit_transform(x)"
   ]
  },
  {
   "cell_type": "code",
   "execution_count": 25,
   "id": "3a302257",
   "metadata": {},
   "outputs": [
    {
     "data": {
      "text/html": [
       "<div>\n",
       "<style scoped>\n",
       "    .dataframe tbody tr th:only-of-type {\n",
       "        vertical-align: middle;\n",
       "    }\n",
       "\n",
       "    .dataframe tbody tr th {\n",
       "        vertical-align: top;\n",
       "    }\n",
       "\n",
       "    .dataframe thead th {\n",
       "        text-align: right;\n",
       "    }\n",
       "</style>\n",
       "<table border=\"1\" class=\"dataframe\">\n",
       "  <thead>\n",
       "    <tr style=\"text-align: right;\">\n",
       "      <th></th>\n",
       "      <th>principal component 1</th>\n",
       "      <th>principal component 2</th>\n",
       "    </tr>\n",
       "  </thead>\n",
       "  <tbody>\n",
       "    <tr>\n",
       "      <th>566</th>\n",
       "      <td>1.256179</td>\n",
       "      <td>-1.902297</td>\n",
       "    </tr>\n",
       "    <tr>\n",
       "      <th>567</th>\n",
       "      <td>10.374794</td>\n",
       "      <td>1.672010</td>\n",
       "    </tr>\n",
       "    <tr>\n",
       "      <th>568</th>\n",
       "      <td>-5.475243</td>\n",
       "      <td>-0.670637</td>\n",
       "    </tr>\n",
       "  </tbody>\n",
       "</table>\n",
       "</div>"
      ],
      "text/plain": [
       "     principal component 1  principal component 2\n",
       "566               1.256179              -1.902297\n",
       "567              10.374794               1.672010\n",
       "568              -5.475243              -0.670637"
      ]
     },
     "execution_count": 25,
     "metadata": {},
     "output_type": "execute_result"
    }
   ],
   "source": [
    "#create dataframe with the principal component values for all 569 samples\n",
    "principal_breast_df = pd.DataFrame(data=principalcomponents_breast,\n",
    "                                  columns=['principal component 1', 'principal component 2'])\n",
    "\n",
    "#print tail to view results\n",
    "principal_breast_df.tail(3)"
   ]
  },
  {
   "cell_type": "code",
   "execution_count": 26,
   "id": "a9ce6784",
   "metadata": {},
   "outputs": [
    {
     "name": "stdout",
     "output_type": "stream",
     "text": [
      "Explained variation per principal component: [0.44272026 0.18971182]\n"
     ]
    }
   ],
   "source": [
    "#print the .explained_variance_ratio, the amount of variance each PC holds \n",
    "#after projecting data to a lower dimensional subspace\n",
    "print('Explained variation per principal component: {}'.format(pca_breast.explained_variance_ratio_))"
   ]
  },
  {
   "cell_type": "code",
   "execution_count": 27,
   "id": "78025346",
   "metadata": {},
   "outputs": [],
   "source": [
    "#PC1 hold 44.2% of the information, PC2 hold 19% of the information\n",
    "#36.8% of the data was lost"
   ]
  },
  {
   "cell_type": "code",
   "execution_count": 28,
   "id": "39cef6e6",
   "metadata": {},
   "outputs": [
    {
     "data": {
      "text/plain": [
       "<matplotlib.legend.Legend at 0x1ee8692b2b0>"
      ]
     },
     "execution_count": 28,
     "metadata": {},
     "output_type": "execute_result"
    },
    {
     "data": {
      "text/plain": [
       "<Figure size 432x288 with 0 Axes>"
      ]
     },
     "metadata": {},
     "output_type": "display_data"
    },
    {
     "data": {
      "image/png": "[encoded data removed]",
      "text/plain": [
       "<Figure size 720x720 with 1 Axes>"
      ]
     },
     "metadata": {
      "needs_background": "light"
     },
     "output_type": "display_data"
    }
   ],
   "source": [
    "#visualization from the tutorial\n",
    "\n",
    "plt.figure()\n",
    "plt.figure(figsize=(10,10))\n",
    "plt.xticks(fontsize=12)\n",
    "plt.yticks(fontsize=14)\n",
    "plt.xlabel('Principal Component - 1',fontsize=20)\n",
    "plt.ylabel('Principal Component - 2',fontsize=20)\n",
    "plt.title(\"Principal Component Analysis of Breast Cancer Dataset\",fontsize=20)\n",
    "targets = ['Benign', 'Malignant']\n",
    "colors = ['r', 'g']\n",
    "for target, color in zip(targets,colors):\n",
    "    indicesToKeep = breast_dataset['label'] == target\n",
    "    plt.scatter(principal_breast_df.loc[indicesToKeep, 'principal component 1']\n",
    "               , principal_breast_df.loc[indicesToKeep, 'principal component 2'], c = color, s = 50)\n",
    "\n",
    "plt.legend(targets,prop={'size': 15})"
   ]
  },
  {
   "cell_type": "code",
   "execution_count": 29,
   "id": "c2f4a013",
   "metadata": {},
   "outputs": [
    {
     "data": {
      "text/plain": [
       "Text(0.5, 1.0, 'Principal Component Analysis of Breast Cancer Dataset')"
      ]
     },
     "execution_count": 29,
     "metadata": {},
     "output_type": "execute_result"
    },
    {
     "data": {
      "image/png": "[encoded data removed]",
      "text/plain": [
       "<Figure size 432x288 with 1 Axes>"
      ]
     },
     "metadata": {
      "needs_background": "light"
     },
     "output_type": "display_data"
    }
   ],
   "source": [
    "#My visualization with Seaborn\n",
    "\n",
    "breast_plot = sns.scatterplot(x = 'principal component 1',\n",
    "                       y = 'principal component 2',\n",
    "                       data = principal_breast_df)\n",
    "\n",
    "breast_plot.set(xlabel = 'Principal Component 1',\n",
    "                ylabel = 'Principal Component 2')\n",
    "breast_plot.set_title('Principal Component Analysis of Breast Cancer Dataset')"
   ]
  },
  {
   "cell_type": "code",
   "execution_count": 30,
   "id": "5bef620e",
   "metadata": {},
   "outputs": [
    {
     "data": {
      "text/plain": [
       "<matplotlib.legend.Legend at 0x1ee86a32fd0>"
      ]
     },
     "execution_count": 30,
     "metadata": {},
     "output_type": "execute_result"
    },
    {
     "data": {
      "image/png": "[encoded data removed]",
      "text/plain": [
       "<Figure size 432x288 with 1 Axes>"
      ]
     },
     "metadata": {
      "needs_background": "light"
     },
     "output_type": "display_data"
    }
   ],
   "source": [
    "#my visualization with Matplotlib\n",
    "#https://stackoverflow.com/questions/26139423/plot-different-color-for-different-categorical-levels-using-matplotlib\n",
    "#https://matplotlib.org/stable/api/_as_gen/matplotlib.pyplot.legend.html\n",
    "\n",
    "plt.figure()\n",
    "plt.xlabel('Principal Component 1')\n",
    "plt.ylabel('Principal Component 2')\n",
    "plt.title(\"Principal Component Analysis of Breast Cancer Dataset\")\n",
    "\n",
    "result = {'Benign':'tab:blue', 'Malignant':'tab:red'}\n",
    "\n",
    "plt.scatter(principal_breast_df['principal component 1'], \n",
    "           principal_breast_df['principal component 2'],\n",
    "           c=breast_dataset['label'].map(result))\n",
    "\n",
    "benign = mlines.Line2D([], [], color='blue', marker='o',\n",
    "                          markersize=8, label='Benign')\n",
    "malignant = mlines.Line2D([], [], color='red', marker='o',\n",
    "                          markersize=8, label='Malignant')\n",
    "plt.legend(handles=[benign, malignant])"
   ]
  },
  {
   "cell_type": "markdown",
   "id": "626a1229",
   "metadata": {},
   "source": [
    "Princpal component analysis is a method of reducing the dimensionality of data. It normalizes data points and then reduces the number of dimensions, called the principal components. Fpr data visualization, the dimensions are reduced to 2 principal components that contain the majority of the original data.\n",
    "\n",
    "References: \n",
    "https://www.datacamp.com/community/tutorials/principal-component-analysis-in-python\n",
    "https://scikit-learn.org/stable/modules/decomposition.html#decompositions\n"
   ]
  }
 ],
 "metadata": {
  "kernelspec": {
   "display_name": "Python 3 (ipykernel)",
   "language": "python",
   "name": "python3"
  },
  "language_info": {
   "codemirror_mode": {
    "name": "ipython",
    "version": 3
   },
   "file_extension": ".py",
   "mimetype": "text/x-python",
   "name": "python",
   "nbconvert_exporter": "python",
   "pygments_lexer": "ipython3",
   "version": "3.9.7"
  }
 },
 "nbformat": 4,
 "nbformat_minor": 5
}
