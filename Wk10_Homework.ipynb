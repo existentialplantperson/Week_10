{
 "cells": [
  {
   "cell_type": "markdown",
   "id": "f451f5c5",
   "metadata": {},
   "source": [
    "#### Week 10 Homework\n",
    "##### Angela Spencer - December 1, 2021\n",
    "Please be sure your functions work for vectors with a size of three and matrices that are 3x3 and use appropriate error handling. Bonus points if you can further generalize them for larger vectors and matrices. "
   ]
  },
  {
   "cell_type": "code",
   "execution_count": 3,
   "id": "5662df40",
   "metadata": {},
   "outputs": [],
   "source": [
    "#setup and dependencies\n",
    "import numpy as np\n",
    "import math\n",
    "import matplotlib.pyplot as plt"
   ]
  },
  {
   "cell_type": "markdown",
   "id": "7998c3bf",
   "metadata": {},
   "source": [
    "#### 1.\tExplain the dot product and cross product in your own words in markdown. Use LaTeX to properly show the equations."
   ]
  },
  {
   "cell_type": "code",
   "execution_count": null,
   "id": "22be553f",
   "metadata": {},
   "outputs": [],
   "source": []
  },
  {
   "cell_type": "markdown",
   "id": "e4298b93",
   "metadata": {},
   "source": [
    "#### 2. Write a function angle_between(v1, v2) where v1 and v2 are two vectors that are passed in, and the angle between them is calculated. "
   ]
  },
  {
   "cell_type": "code",
   "execution_count": 196,
   "id": "36c2e5c6",
   "metadata": {},
   "outputs": [],
   "source": [
    "#function takes in 2 - 3D vectors and calculates angle between them\n",
    "def angle_between(v1,v2):\n",
    "    \n",
    "    #find the dot product\n",
    "    #dot_prod = sum((a*b) for a,b in zip(v1,v2))\n",
    "    #dot_prod = sum((math.prod(num)) for num in zip(v1,v2))\n",
    "    dot_prod = np.dot(v1,v2)\n",
    "    #print('dot product = '+str(dot_prod))\n",
    "    \n",
    "    #find the magnitude of v1\n",
    "    sum_sqr_v1 = sum((num**2) for num in v1)\n",
    "    mag_v1 = math.sqrt(sum_sqr_v1)\n",
    "    #print('magnitude of v1 = '+str(mag_v1))\n",
    "    \n",
    "    #find the magnitude of v2\n",
    "    sum_sqr_v2 = sum((num**2) for num in v2)\n",
    "    mag_v2 = math.sqrt(sum_sqr_v2)\n",
    "    #print('magnitude of v2 = '+str(mag_v2))\n",
    "    \n",
    "    #find the cos(theta) = dot product / mag v1 * mag v2\n",
    "    cos_theta = dot_prod / (mag_v1*mag_v2)\n",
    "    #print('cos(theta) = '+str(cos_theta))\n",
    "    \n",
    "    #take arccos to isolate theta\n",
    "    theta = math.acos(cos_theta)\n",
    "    \n",
    "    #return theta = the angle between vectors v1 and v2\n",
    "    return(theta)\n"
   ]
  },
  {
   "cell_type": "code",
   "execution_count": 197,
   "id": "781adc69",
   "metadata": {},
   "outputs": [
    {
     "data": {
      "text/plain": [
       "0.2257261285527342"
      ]
     },
     "execution_count": 197,
     "metadata": {},
     "output_type": "execute_result"
    }
   ],
   "source": [
    "m = ([1,2,3])\n",
    "n = ([4,5,6])\n",
    "angle_between(m,n)\n",
    "\n",
    "#angle_between([1,2,3],[4,5,6])\n",
    "#angle_between([1,2,3],[4,5])"
   ]
  },
  {
   "cell_type": "markdown",
   "id": "23ef140b",
   "metadata": {},
   "source": [
    "#### 3.\tWrite a function called row_dot(A, r1, r2) which takes an input matrix called A, one row number identified by r1, and another row number identified by r2 and returns the dot product of the r1 and r2 rows (indexing starts at 0)."
   ]
  },
  {
   "cell_type": "code",
   "execution_count": 211,
   "id": "e136bd5d",
   "metadata": {},
   "outputs": [],
   "source": [
    "#function takes in matrix(A), row number(r1), and row number(r2)\n",
    "#and returns dot product of r1 and r2\n",
    "def row_dot(A,r1,r2):\n",
    "    try:\n",
    "        #convert row entries into index values\n",
    "        r1 = A[r1-1]\n",
    "        r2 = A[r2-1]\n",
    "        \n",
    "        #calculate dot product \n",
    "        #dot_prod = sum((math.prod(num)) for num in zip(r1,r2))\n",
    "        dot_prod = np.dot(r1,r2)\n",
    "    \n",
    "    #error exception\n",
    "    except Exception as e: \n",
    "        return(e)\n",
    "    \n",
    "    else:\n",
    "        return dot_prod"
   ]
  },
  {
   "cell_type": "code",
   "execution_count": 212,
   "id": "6c98e1ce",
   "metadata": {},
   "outputs": [
    {
     "data": {
      "text/plain": [
       "32"
      ]
     },
     "execution_count": 212,
     "metadata": {},
     "output_type": "execute_result"
    }
   ],
   "source": [
    "A = np.array([[1,2,3],[4,5,6],[7,8,9]])\n",
    "\n",
    "row_dot(A,1,2)"
   ]
  },
  {
   "cell_type": "markdown",
   "id": "d1c96ee3",
   "metadata": {},
   "source": [
    "#### 4.\tWrite a function matrix_division(m1, m2) that takes in two matrices, m1 and m2, and returns the result. What is the trick with matrix division?"
   ]
  },
  {
   "cell_type": "code",
   "execution_count": 160,
   "id": "034b81a9",
   "metadata": {},
   "outputs": [],
   "source": [
    "#function takes in 2 matrices (M1 and M2) and returns the product of division\n",
    "def matrix_division(M1,M2):\n",
    "    try:\n",
    "        invM2 = np.linalg.inv(M2)\n",
    "        M1_div_M2 = np.matmul(M1,invM2)\n",
    "        \n",
    "    except Exception as e:\n",
    "        return(e)\n",
    "    \n",
    "    else:\n",
    "        return(M1_div_M2)\n",
    "    "
   ]
  },
  {
   "cell_type": "code",
   "execution_count": 161,
   "id": "fe8c03c7",
   "metadata": {},
   "outputs": [
    {
     "data": {
      "text/plain": [
       "array([[ 8.33190265e+00, -7.40997303e+01,  7.29015582e+00],\n",
       "       [-1.21826024e-01,  2.17018765e+00, -1.07100758e-01],\n",
       "       [-2.63440527e+01,  2.51843846e+02, -2.39667798e+01]])"
      ]
     },
     "execution_count": 161,
     "metadata": {},
     "output_type": "execute_result"
    }
   ],
   "source": [
    "M1 = np.array([[123,255,37],[48,56,69],[73,84,989]])\n",
    "M2 = np.array([[94,448,557],[46,55,64],[377,82,19]])\n",
    "\n",
    "matrix_division(M1,M2)"
   ]
  },
  {
   "cell_type": "markdown",
   "id": "786dbfde",
   "metadata": {},
   "source": [
    "#### 5.\tWrite a function is_orthogonal(v1,v2, tol), where v1 and v2 are column vectors of the same size and tol is a scalar value strictly larger than 0. The output should be 1 if the angle between v1 and v2 is within tol of π/2; that is, |π/2−θ|<tol, and 0 otherwise. "
   ]
  },
  {
   "cell_type": "code",
   "execution_count": 205,
   "id": "f4c93b5a",
   "metadata": {},
   "outputs": [],
   "source": [
    "#function that takes in 2 column vectors and a tolerance > 0\n",
    "#outputs 1 if |π/2−θ|<tol and 0 if outside tolerance\n",
    "def is_orthogonal(v1,v2,tol):\n",
    "    #calculate angle between vectors\n",
    "    theta = angle_between(v1,v2)\n",
    "    print(theta)\n",
    "    \n",
    "    #if angle is in tolerance, return 1\n",
    "    if abs(math.pi/2 - theta) < tol:\n",
    "        return print(1)\n",
    "    \n",
    "    #else return 0\n",
    "    else:\n",
    "        return print(0)"
   ]
  },
  {
   "cell_type": "code",
   "execution_count": 206,
   "id": "5bea518c",
   "metadata": {},
   "outputs": [
    {
     "name": "stdout",
     "output_type": "stream",
     "text": [
      "0.2257261285527342\n",
      "0\n"
     ]
    }
   ],
   "source": [
    "is_orthogonal(m,n, 0.05)\n",
    "\n",
    "#is_orthogonal([0,1],[1,0], 0.001)"
   ]
  },
  {
   "cell_type": "code",
   "execution_count": 207,
   "id": "302b2d55",
   "metadata": {},
   "outputs": [
    {
     "ename": "ValueError",
     "evalue": "shapes (2,1) and (2,1) not aligned: 1 (dim 1) != 2 (dim 0)",
     "output_type": "error",
     "traceback": [
      "\u001b[1;31m---------------------------------------------------------------------------\u001b[0m",
      "\u001b[1;31mValueError\u001b[0m                                Traceback (most recent call last)",
      "\u001b[1;32m~\\AppData\\Local\\Temp/ipykernel_10344/2160493140.py\u001b[0m in \u001b[0;36m<module>\u001b[1;34m\u001b[0m\n\u001b[0;32m      3\u001b[0m \u001b[0mb\u001b[0m \u001b[1;33m=\u001b[0m \u001b[0mnp\u001b[0m\u001b[1;33m.\u001b[0m\u001b[0marray\u001b[0m\u001b[1;33m(\u001b[0m\u001b[1;33m[\u001b[0m\u001b[1;33m[\u001b[0m\u001b[1;36m0.001\u001b[0m\u001b[1;33m]\u001b[0m\u001b[1;33m,\u001b[0m \u001b[1;33m[\u001b[0m\u001b[1;36m1\u001b[0m\u001b[1;33m]\u001b[0m\u001b[1;33m]\u001b[0m\u001b[1;33m)\u001b[0m\u001b[1;33m\u001b[0m\u001b[1;33m\u001b[0m\u001b[0m\n\u001b[0;32m      4\u001b[0m \u001b[1;31m# output: 1\u001b[0m\u001b[1;33m\u001b[0m\u001b[1;33m\u001b[0m\u001b[0m\n\u001b[1;32m----> 5\u001b[1;33m \u001b[0mis_orthogonal\u001b[0m\u001b[1;33m(\u001b[0m\u001b[0ma\u001b[0m\u001b[1;33m,\u001b[0m\u001b[0mb\u001b[0m\u001b[1;33m,\u001b[0m \u001b[1;36m0.01\u001b[0m\u001b[1;33m)\u001b[0m\u001b[1;33m\u001b[0m\u001b[1;33m\u001b[0m\u001b[0m\n\u001b[0m\u001b[0;32m      6\u001b[0m \u001b[1;33m\u001b[0m\u001b[0m\n\u001b[0;32m      7\u001b[0m \u001b[1;31m# output: 0\u001b[0m\u001b[1;33m\u001b[0m\u001b[1;33m\u001b[0m\u001b[0m\n",
      "\u001b[1;32m~\\AppData\\Local\\Temp/ipykernel_10344/2941547464.py\u001b[0m in \u001b[0;36mis_orthogonal\u001b[1;34m(v1, v2, tol)\u001b[0m\n\u001b[0;32m      3\u001b[0m \u001b[1;32mdef\u001b[0m \u001b[0mis_orthogonal\u001b[0m\u001b[1;33m(\u001b[0m\u001b[0mv1\u001b[0m\u001b[1;33m,\u001b[0m\u001b[0mv2\u001b[0m\u001b[1;33m,\u001b[0m\u001b[0mtol\u001b[0m\u001b[1;33m)\u001b[0m\u001b[1;33m:\u001b[0m\u001b[1;33m\u001b[0m\u001b[1;33m\u001b[0m\u001b[0m\n\u001b[0;32m      4\u001b[0m     \u001b[1;31m#calculate angle between vectors\u001b[0m\u001b[1;33m\u001b[0m\u001b[1;33m\u001b[0m\u001b[0m\n\u001b[1;32m----> 5\u001b[1;33m     \u001b[0mtheta\u001b[0m \u001b[1;33m=\u001b[0m \u001b[0mangle_between\u001b[0m\u001b[1;33m(\u001b[0m\u001b[0mv1\u001b[0m\u001b[1;33m,\u001b[0m\u001b[0mv2\u001b[0m\u001b[1;33m)\u001b[0m\u001b[1;33m\u001b[0m\u001b[1;33m\u001b[0m\u001b[0m\n\u001b[0m\u001b[0;32m      6\u001b[0m     \u001b[0mprint\u001b[0m\u001b[1;33m(\u001b[0m\u001b[0mtheta\u001b[0m\u001b[1;33m)\u001b[0m\u001b[1;33m\u001b[0m\u001b[1;33m\u001b[0m\u001b[0m\n\u001b[0;32m      7\u001b[0m \u001b[1;33m\u001b[0m\u001b[0m\n",
      "\u001b[1;32m~\\AppData\\Local\\Temp/ipykernel_10344/938826024.py\u001b[0m in \u001b[0;36mangle_between\u001b[1;34m(v1, v2)\u001b[0m\n\u001b[0;32m      5\u001b[0m     \u001b[1;31m#dot_prod = sum((a*b) for a,b in zip(v1,v2))\u001b[0m\u001b[1;33m\u001b[0m\u001b[1;33m\u001b[0m\u001b[0m\n\u001b[0;32m      6\u001b[0m     \u001b[1;31m#dot_prod = sum((math.prod(num)) for num in zip(v1,v2))\u001b[0m\u001b[1;33m\u001b[0m\u001b[1;33m\u001b[0m\u001b[0m\n\u001b[1;32m----> 7\u001b[1;33m     \u001b[0mdot_prod\u001b[0m \u001b[1;33m=\u001b[0m \u001b[0mnp\u001b[0m\u001b[1;33m.\u001b[0m\u001b[0mdot\u001b[0m\u001b[1;33m(\u001b[0m\u001b[0mv1\u001b[0m\u001b[1;33m,\u001b[0m\u001b[0mv2\u001b[0m\u001b[1;33m)\u001b[0m\u001b[1;33m\u001b[0m\u001b[1;33m\u001b[0m\u001b[0m\n\u001b[0m\u001b[0;32m      8\u001b[0m     \u001b[1;31m#print('dot product = '+str(dot_prod))\u001b[0m\u001b[1;33m\u001b[0m\u001b[1;33m\u001b[0m\u001b[0m\n\u001b[0;32m      9\u001b[0m \u001b[1;33m\u001b[0m\u001b[0m\n",
      "\u001b[1;32m<__array_function__ internals>\u001b[0m in \u001b[0;36mdot\u001b[1;34m(*args, **kwargs)\u001b[0m\n",
      "\u001b[1;31mValueError\u001b[0m: shapes (2,1) and (2,1) not aligned: 1 (dim 1) != 2 (dim 0)"
     ]
    }
   ],
   "source": [
    "# Test cases for problem 5\n",
    "a = np.array([[1], [0.001]])\n",
    "b = np.array([[0.001], [1]])\n",
    "# output: 1\n",
    "is_orthogonal(a,b, 0.01)\n",
    "\n",
    "# output: 0\n",
    "is_orthogonal(a,b, 0.001)\n",
    "\n",
    "# output: 0\n",
    "a = np.array([[1], [0.001]])\n",
    "b = np.array([[1], [1]])\n",
    "is_orthogonal(a,b, 0.01)\n",
    "\n",
    "# output: 1\n",
    "a = np.array([[1], [1]])\n",
    "b = np.array([[-1], [1]])\n",
    "is_orthogonal(a,b, 1e-10)"
   ]
  },
  {
   "cell_type": "code",
   "execution_count": 208,
   "id": "c29dfea4",
   "metadata": {},
   "outputs": [
    {
     "name": "stdout",
     "output_type": "stream",
     "text": [
      "1.5687963274615628\n",
      "1\n",
      "1.5687963274615628\n",
      "0\n",
      "0.7843981637307818\n",
      "0\n",
      "1.5707963267948966\n",
      "1\n"
     ]
    }
   ],
   "source": [
    "# Test cases for problem 5\n",
    "a = ([1, 0.001])\n",
    "b = ([0.001, 1])\n",
    "# output: 1\n",
    "is_orthogonal(a,b, 0.01)\n",
    "\n",
    "# output: 0\n",
    "is_orthogonal(a,b, 0.001)\n",
    "\n",
    "# output: 0\n",
    "a = ([1,0.001])\n",
    "b = ([1,1])\n",
    "is_orthogonal(a,b, 0.01)\n",
    "\n",
    "# output: 1\n",
    "a = ([1,1])\n",
    "b = ([-1,1])\n",
    "is_orthogonal(a,b, 1e-10)"
   ]
  },
  {
   "cell_type": "markdown",
   "id": "3bbacfd8",
   "metadata": {},
   "source": [
    "#### 6.\tCreate a class called vector_calculator. __init__ should take self, vector1, and vector2. It should have two methods inside of it that are from problems 1 and 4 above (angle_between and is_orthogonal). Make sure tol is defaulted but can be overwritten. Make sure you can call angle_between and is_orthogonal through the class and return the correct results as in problems 1 and 4. "
   ]
  },
  {
   "cell_type": "code",
   "execution_count": null,
   "id": "26885843",
   "metadata": {},
   "outputs": [],
   "source": []
  },
  {
   "cell_type": "markdown",
   "id": "095f6d4a",
   "metadata": {},
   "source": [
    "#### 7.\tShow a graphical representation of the breast cancer data outlined in this reading https://www.datacamp.com/community/tutorials/principal-component-analysis-in-python Be sure to describe what PCA is and incorporate the principal components in your plot. This is just exploratory, so there are many correct answers!\n"
   ]
  },
  {
   "cell_type": "code",
   "execution_count": null,
   "id": "08a41dc1",
   "metadata": {},
   "outputs": [],
   "source": []
  }
 ],
 "metadata": {
  "kernelspec": {
   "display_name": "Python 3 (ipykernel)",
   "language": "python",
   "name": "python3"
  },
  "language_info": {
   "codemirror_mode": {
    "name": "ipython",
    "version": 3
   },
   "file_extension": ".py",
   "mimetype": "text/x-python",
   "name": "python",
   "nbconvert_exporter": "python",
   "pygments_lexer": "ipython3",
   "version": "3.9.7"
  }
 },
 "nbformat": 4,
 "nbformat_minor": 5
}
