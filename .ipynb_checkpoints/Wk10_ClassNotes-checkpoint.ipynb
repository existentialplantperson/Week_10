{
 "cells": [
  {
   "cell_type": "code",
   "execution_count": 7,
   "id": "3e8a0502",
   "metadata": {},
   "outputs": [
    {
     "data": {
      "text/plain": [
       "[9, 8, 7, 6, 5, 4, 3, 2, 1, 0]"
      ]
     },
     "execution_count": 7,
     "metadata": {},
     "output_type": "execute_result"
    }
   ],
   "source": [
    "#Warm Up - reverse this list \n",
    "\n",
    "my_list = [0,1,2,3,4,5,6,7,8,9]\n",
    "\n",
    "reversed_list = my_list[::-1]\n",
    "reversed_list"
   ]
  },
  {
   "cell_type": "code",
   "execution_count": 8,
   "id": "2203ce0f",
   "metadata": {},
   "outputs": [
    {
     "name": "stdout",
     "output_type": "stream",
     "text": [
      "[4.5, 4.0, 3.5, 3.0, 2.5, 2.0, 1.5, 1.0, 0.5, 0.0]\n"
     ]
    }
   ],
   "source": [
    "#then use list comprehension to halve the values in the list\n",
    "\n",
    "halved_my_list= [number/2 for number in reversed_list]\n",
    "print(halved_my_list)"
   ]
  },
  {
   "cell_type": "raw",
   "id": "d7eddf96",
   "metadata": {},
   "source": [
    "Vector math - vectors have magnitude and direction\n",
    "\n",
    "Matrix math\n",
    "\n",
    "one hot encoding - convert categorical values to numerical"
   ]
  },
  {
   "cell_type": "code",
   "execution_count": 15,
   "id": "be544636",
   "metadata": {},
   "outputs": [
    {
     "data": {
      "text/plain": [
       "array([[1],\n",
       "       [2],\n",
       "       [3]])"
      ]
     },
     "execution_count": 15,
     "metadata": {},
     "output_type": "execute_result"
    }
   ],
   "source": [
    "#VECTORS\n",
    "\n",
    "\n",
    "import numpy as np\n",
    "v = np.array([[1],[2],[3]])\n",
    "v"
   ]
  },
  {
   "cell_type": "code",
   "execution_count": 16,
   "id": "36710e2c",
   "metadata": {},
   "outputs": [
    {
     "data": {
      "text/plain": [
       "(3, 1)"
      ]
     },
     "execution_count": 16,
     "metadata": {},
     "output_type": "execute_result"
    }
   ],
   "source": [
    "v.shape"
   ]
  },
  {
   "cell_type": "code",
   "execution_count": 13,
   "id": "a01fa2e2",
   "metadata": {},
   "outputs": [
    {
     "data": {
      "text/plain": [
       "array([[1, 2, 3],\n",
       "       [4, 5, 6],\n",
       "       [7, 8, 9]])"
      ]
     },
     "execution_count": 13,
     "metadata": {},
     "output_type": "execute_result"
    }
   ],
   "source": [
    "#MATRICES\n",
    "\n",
    "M = np.array([[1, 2, 3], [4, 5, 6], [7, 8, 9]])\n",
    "M"
   ]
  },
  {
   "cell_type": "code",
   "execution_count": 14,
   "id": "3d8e3c12",
   "metadata": {},
   "outputs": [
    {
     "data": {
      "text/plain": [
       "(3, 3)"
      ]
     },
     "execution_count": 14,
     "metadata": {},
     "output_type": "execute_result"
    }
   ],
   "source": [
    "M.shape"
   ]
  },
  {
   "cell_type": "code",
   "execution_count": null,
   "id": "fc7107ca",
   "metadata": {},
   "outputs": [],
   "source": []
  },
  {
   "cell_type": "code",
   "execution_count": 38,
   "id": "c741c90f",
   "metadata": {},
   "outputs": [
    {
     "data": {
      "text/plain": [
       "<zip at 0x272c2c41b80>"
      ]
     },
     "execution_count": 38,
     "metadata": {},
     "output_type": "execute_result"
    }
   ],
   "source": [
    "#SCALAR - number that can be applied to all individual values in an array\n",
    "\n",
    "#scalar\n",
    "x=3.5\n",
    "\n",
    "\n",
    "#define vector, v already defined\n",
    "v2 = np.array([[-1],[-2],[-3]])\n",
    "\n",
    "#zipping to arrays together\n",
    "new_matrix=zip(v,v2)\n",
    "#shows the location in memory\n",
    "new_matrix"
   ]
  },
  {
   "cell_type": "code",
   "execution_count": 71,
   "id": "02718af4",
   "metadata": {},
   "outputs": [
    {
     "data": {
      "text/plain": [
       "[(array([1]), array([-1])),\n",
       " (array([2]), array([-2])),\n",
       " (array([3]), array([-3]))]"
      ]
     },
     "execution_count": 71,
     "metadata": {},
     "output_type": "execute_result"
    }
   ],
   "source": [
    "#cast to list to actually view data\n",
    "#list comprised of arrays\n",
    "new_matrix=list(zip(v,v2))\n",
    "new_matrix"
   ]
  },
  {
   "cell_type": "code",
   "execution_count": 21,
   "id": "088e997f",
   "metadata": {},
   "outputs": [
    {
     "data": {
      "text/plain": [
       "list"
      ]
     },
     "execution_count": 21,
     "metadata": {},
     "output_type": "execute_result"
    }
   ],
   "source": [
    "type(new_matrix)"
   ]
  },
  {
   "cell_type": "raw",
   "id": "7447a990",
   "metadata": {},
   "source": [
    "DOT PRODUCT and CROSS PRODUCT\n",
    "-used behind the scenes for visualizations and One-Hot coding\n",
    "\n",
    "DOT PRODUCT - vector multiplication\n",
    "dot product of vectors a and b = ax*bx + ay*by\n",
    "With 2D vectors, this is the same as matrix multiplication, produces scalar value(a number, not a vector). \n",
    "Result tells you the degree to which the vectors interact, or the interaction between similar dimensions\n",
    "\n",
    "Used for lots of rendering, force diagrams, solar panel tracking"
   ]
  },
  {
   "cell_type": "code",
   "execution_count": 22,
   "id": "6e94e419",
   "metadata": {},
   "outputs": [
    {
     "name": "stdout",
     "output_type": "stream",
     "text": [
      "[[1 2 3]]\n",
      "[[1]\n",
      " [2]\n",
      " [3]]\n"
     ]
    }
   ],
   "source": [
    "print(v.T) #v transposed\n",
    "print(v)"
   ]
  },
  {
   "cell_type": "code",
   "execution_count": 25,
   "id": "6588b13d",
   "metadata": {},
   "outputs": [
    {
     "data": {
      "text/plain": [
       "array([[14]])"
      ]
     },
     "execution_count": 25,
     "metadata": {},
     "output_type": "execute_result"
    }
   ],
   "source": [
    "#sum of 1*1 + 2*2 + 3*3\n",
    "np.dot(v.T, v)"
   ]
  },
  {
   "cell_type": "code",
   "execution_count": 28,
   "id": "07676c42",
   "metadata": {},
   "outputs": [
    {
     "name": "stdout",
     "output_type": "stream",
     "text": [
      "-1\n",
      "0\n"
     ]
    }
   ],
   "source": [
    "#Think directionality - convert that into vectors\n",
    "\n",
    "north = np.array([0,1])\n",
    "east = np.array([1,0])\n",
    "south = np.array([0,-1])\n",
    "west = np.array([-1,0])\n",
    "\n",
    "#to what degree are the two directions the same\n",
    "print(np.dot(north, south)) #the have 1 in common\n",
    "\n",
    "print(np.dot(north, east)) #0, they have nothing in common"
   ]
  },
  {
   "cell_type": "code",
   "execution_count": 33,
   "id": "8f2fc2a3",
   "metadata": {},
   "outputs": [
    {
     "name": "stdout",
     "output_type": "stream",
     "text": [
      "-110\n"
     ]
    }
   ],
   "source": [
    "#create an example\n",
    "\n",
    "a = np.array([5, 6, 7])\n",
    "b = np.array([-5, -6, -7])\n",
    "\n",
    "print(np.dot(a, b))"
   ]
  },
  {
   "cell_type": "raw",
   "id": "1e4bbaac",
   "metadata": {},
   "source": [
    "CROSS PRODUCT\n",
    "calculating a perpendicular line that two vectors would rotate around\n",
    "\n",
    "type of vector multiplication, but it shows the interaction between different components of the vector\n",
    "\n",
    "when you compute cross product you get a new vector (not scalar) that is perpendicular to both the input vectors\n",
    "\n",
    "in each part of the cross product calculation, you ar leaving out an interaction\n",
    "\n",
    "why do we care - torque and moment of a force\n",
    "moment = measure of the tendency to rotate about a particular point"
   ]
  },
  {
   "cell_type": "code",
   "execution_count": 39,
   "id": "b5881616",
   "metadata": {},
   "outputs": [
    {
     "name": "stdout",
     "output_type": "stream",
     "text": [
      "[[1]\n",
      " [2]\n",
      " [3]]\n",
      "[[-1]\n",
      " [-2]\n",
      " [-3]]\n"
     ]
    },
    {
     "data": {
      "text/plain": [
       "array([[0, 0, 0]])"
      ]
     },
     "execution_count": 39,
     "metadata": {},
     "output_type": "execute_result"
    }
   ],
   "source": [
    "print(v)\n",
    "print(v2)\n",
    "\n",
    "#this example does not work with default axis setting\n",
    "np.cross(v, v2, axisa=0, axisb=0)\n",
    "\n",
    "#returns all 0s because the two arrays are entirely opposite"
   ]
  },
  {
   "cell_type": "markdown",
   "id": "2b5d5588",
   "metadata": {},
   "source": [
    "Orthogonality - two vectors are orthogonal is they are perpendicular\n",
    "\n",
    "the dot product is 0 or the identity matrix\n",
    "\n",
    "(two dollar signs) A \\cdot A^T = I (two dollar signs)\n",
    "\n",
    "$$ A \\cdot A^T = I $$"
   ]
  },
  {
   "cell_type": "code",
   "execution_count": 42,
   "id": "70b31e49",
   "metadata": {},
   "outputs": [
    {
     "data": {
      "text/plain": [
       "array([[1, 0, 0],\n",
       "       [0, 1, 0],\n",
       "       [0, 0, 1]])"
      ]
     },
     "execution_count": 42,
     "metadata": {},
     "output_type": "execute_result"
    }
   ],
   "source": [
    "#identity matrix, 1s on the diagonal and other values are 0\n",
    "M = np.array([[1,0,0],\n",
    "            [0,1,0],\n",
    "            [0,0,1]])\n",
    "M"
   ]
  },
  {
   "cell_type": "code",
   "execution_count": 43,
   "id": "6b0b46cd",
   "metadata": {},
   "outputs": [
    {
     "data": {
      "text/plain": [
       "array([[1, 0, 0],\n",
       "       [0, 1, 0],\n",
       "       [0, 0, 1]])"
      ]
     },
     "execution_count": 43,
     "metadata": {},
     "output_type": "execute_result"
    }
   ],
   "source": [
    "# a test for the orthogonality is if the matrix and its transpose \n",
    "#equal the identity matrix\n",
    "\n",
    "np.dot(M, M.T)"
   ]
  },
  {
   "cell_type": "code",
   "execution_count": 50,
   "id": "d6254cad",
   "metadata": {},
   "outputs": [
    {
     "name": "stdout",
     "output_type": "stream",
     "text": [
      "[[1 2 3]\n",
      " [4 5 6]\n",
      " [7 8 9]]\n"
     ]
    },
    {
     "data": {
      "text/plain": [
       "array([[ 14,  32,  50],\n",
       "       [ 32,  77, 122],\n",
       "       [ 50, 122, 194]])"
      ]
     },
     "execution_count": 50,
     "metadata": {},
     "output_type": "execute_result"
    }
   ],
   "source": [
    "A = np.array([[1,2,3],\n",
    "             [4,5,6],\n",
    "             [7,8,9]])\n",
    "print(A)\n",
    "\n",
    "np.dot(A, A.T)\n",
    "\n",
    "#not orthoginal"
   ]
  },
  {
   "cell_type": "code",
   "execution_count": 49,
   "id": "1bf639df",
   "metadata": {},
   "outputs": [
    {
     "name": "stdout",
     "output_type": "stream",
     "text": [
      "[[1 2 3]\n",
      " [2 3 1]\n",
      " [3 1 2]]\n"
     ]
    },
    {
     "data": {
      "text/plain": [
       "array([[14, 11, 11],\n",
       "       [11, 14, 11],\n",
       "       [11, 11, 14]])"
      ]
     },
     "execution_count": 49,
     "metadata": {},
     "output_type": "execute_result"
    }
   ],
   "source": [
    "B = np.array([[1,2,3],\n",
    "             [2,3,1],\n",
    "             [3,1,2]])\n",
    "print(B)\n",
    "\n",
    "np.dot(B, B.T)\n",
    "\n",
    "#not orthoginal"
   ]
  },
  {
   "cell_type": "raw",
   "id": "45ca2201",
   "metadata": {},
   "source": [
    "One Hot Encoding\n",
    "a vector represnentation of  categorical value to process more efficiently\n",
    "this is a type of preprocessing used in maching learning \n",
    "\n",
    "Dummy Variable Trap\n",
    "independent variables are multicollinear - two variables are highly correlated"
   ]
  },
  {
   "cell_type": "code",
   "execution_count": null,
   "id": "71d185ec",
   "metadata": {},
   "outputs": [],
   "source": [
    "Error Handling\n",
    "\n",
    "# try except else finally for error handling"
   ]
  },
  {
   "cell_type": "raw",
   "id": "c1d14e5e",
   "metadata": {},
   "source": [
    "Recursion\n",
    "\n",
    "recursion - when a function calls itself\n",
    "be careful - possible to get stack overflow and write a function that never terminates\n",
    "\n",
    "uses lots of memory for imperative languages (like python)\n",
    "\n",
    "(sql is declarative, recursion is not so memory intensive)"
   ]
  },
  {
   "cell_type": "code",
   "execution_count": 69,
   "id": "b0770577",
   "metadata": {},
   "outputs": [],
   "source": [
    "def countdown(n):\n",
    "    \n",
    "    #first print n\n",
    "    print(n)\n",
    "    \n",
    "    #count backward from n until we get to 0\n",
    "    if n>0:\n",
    "        \n",
    "        #perform action\n",
    "        countdown(n-1)\n",
    "        \n",
    "    else:\n",
    "        \n",
    "        #stopping condition, terminates recursion\n",
    "        return"
   ]
  },
  {
   "cell_type": "code",
   "execution_count": 70,
   "id": "c527d305",
   "metadata": {},
   "outputs": [
    {
     "name": "stdout",
     "output_type": "stream",
     "text": [
      "2\n",
      "1\n",
      "0\n"
     ]
    }
   ],
   "source": [
    "countdown(2)"
   ]
  },
  {
   "cell_type": "code",
   "execution_count": null,
   "id": "781b2b36",
   "metadata": {},
   "outputs": [],
   "source": [
    "#play around with moving the print statement to understand "
   ]
  }
 ],
 "metadata": {
  "kernelspec": {
   "display_name": "Python 3 (ipykernel)",
   "language": "python",
   "name": "python3"
  },
  "language_info": {
   "codemirror_mode": {
    "name": "ipython",
    "version": 3
   },
   "file_extension": ".py",
   "mimetype": "text/x-python",
   "name": "python",
   "nbconvert_exporter": "python",
   "pygments_lexer": "ipython3",
   "version": "3.9.7"
  }
 },
 "nbformat": 4,
 "nbformat_minor": 5
}
